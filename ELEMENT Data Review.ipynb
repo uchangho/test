{
 "cells": [
  {
   "cell_type": "code",
   "execution_count": 2,
   "id": "edae98ae-a3da-4aa7-af6b-6351049307d7",
   "metadata": {},
   "outputs": [],
   "source": [
    "# Create LogStatus table from ELEMENT DB using an ODBC connection through SQLAlchemy\n",
    "import pandas as pd\n",
    "import numpy as np\n",
    "from sqlalchemy import create_engine\n",
    "server = 'DOH-LAB-04\\ELEMENT,1493'\n",
    "database = 'LTDB'\n",
    "engine = create_engine('mssql+pyodbc://' + server + '/' + database + '?trusted_connection=yes&driver=SQL+Server', use_setinputsizes=False)\n",
    "work = '23I2701'\n",
    "query = (\n",
    "         \"select distinct s.SampleInfo1, a.Wrk, a.Sample, n.Batch, a.Analysis, a.Analyte, a.nResult, a.nMDL, a.nMRL, l.LR, a.FinalUnits, a.AnalyteNotes, q.Qualifier, q.TextBody, s.SampleReceived, a.Analyzed \"\n",
    "         \"from LTDB.dbo.WRKSAMPLE s \"\n",
    "         \"inner join LTDB.dbo.REPSAMPLEANALYTE a \"\n",
    "         \"on s.Wrk=a.Wrk and s.Sample=a.Sample \"\n",
    "         \"inner join LTDB.dbo.REPSAMPLEANALYSIS n \"\n",
    "         \"on a.Wrk=n.Wrk and a.Sample=n.Sample \"\n",
    "         \"inner join LTDB.dbo.ANALYSISLIMITSET l \"\n",
    "         \"on a.Analysis=l.Analysis and a.Analyte=l.Analyte \"\n",
    "         \"left join LTDB.dbo.REPQUALIFIER q \"\n",
    "         \"on a.Wrk=q.Wrk and a.Sample=q.Sample and a.Analyte=q.Analyte \"\n",
    "         \"where a.Wrk='\" +work+ \"' order by Wrk, Sample, Analyte\"\n",
    "        )\n",
    "df = pd.read_sql(query, engine)\n",
    "from datetime import datetime\n",
    "today = datetime.today().strftime('%m%d%y')\n",
    "\n",
    "# Subset ELEMENT data with limited variables to further explore\n",
    "df2 = df[['Wrk', 'Sample', 'Batch', 'Analysis', 'Analyte', 'nResult']]\n",
    "Unique = df2.nunique()\n",
    "Unique2 = Unique.to_frame()\n",
    "import dataframe_image as dfi\n",
    "df_styled = Unique2.style.background_gradient()\n",
    "#dfi.export(df_styled,'V:\\\\Biomonitoring Grant-CDC 2019-2024\\\\University of Arizona\\\\Firefighter Full Project\\\\'+work+'-Unique Count-'+datetime.today().strftime('%m%d%y')+'.png')\n",
    "\n",
    "# Interactive image on browser with hovering individual data\n",
    "import plotly\n",
    "import plotly.io as pio\n",
    "import plotly.express as px\n",
    "pio.renderers.default='browser'\n",
    "fig = px.box(df2, x=\"nResult\", y=\"Analyte\", hover_data=[\"Sample\"], points='all', title='Interactive Box Plot for Work Order of '+work+' by Analyte')\n",
    "fig.update_yaxes(categoryorder='median ascending')\n",
    "fig.show()"
   ]
  },
  {
   "cell_type": "code",
   "execution_count": null,
   "id": "16b1b81c-ab61-4b2c-b1b6-99ff97c207f5",
   "metadata": {},
   "outputs": [],
   "source": []
  },
  {
   "cell_type": "code",
   "execution_count": null,
   "id": "cfac8c03-d95d-4324-ab79-071de35d3d0e",
   "metadata": {},
   "outputs": [],
   "source": []
  }
 ],
 "metadata": {
  "kernelspec": {
   "display_name": "Python 3 (ipykernel)",
   "language": "python",
   "name": "python3"
  },
  "language_info": {
   "codemirror_mode": {
    "name": "ipython",
    "version": 3
   },
   "file_extension": ".py",
   "mimetype": "text/x-python",
   "name": "python",
   "nbconvert_exporter": "python",
   "pygments_lexer": "ipython3",
   "version": "3.11.5"
  }
 },
 "nbformat": 4,
 "nbformat_minor": 5
}
